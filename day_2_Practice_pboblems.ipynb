{
  "nbformat": 4,
  "nbformat_minor": 0,
  "metadata": {
    "colab": {
      "provenance": []
    },
    "kernelspec": {
      "name": "python3",
      "display_name": "Python 3"
    },
    "language_info": {
      "name": "python"
    }
  },
  "cells": [
    {
      "cell_type": "code",
      "execution_count": null,
      "metadata": {
        "id": "Ucs0qhmOjQ27"
      },
      "outputs": [],
      "source": []
    },
    {
      "cell_type": "markdown",
      "source": [
        "1.Answer"
      ],
      "metadata": {
        "id": "8jsuVpBqjVbZ"
      }
    },
    {
      "cell_type": "code",
      "source": [
        "list1=[10,20,30,40,50]\n",
        "print(\"sum=\" ,sum(list1))"
      ],
      "metadata": {
        "colab": {
          "base_uri": "https://localhost:8080/"
        },
        "id": "3qDo2Vvljaxr",
        "outputId": "ff7469c6-fc4e-4bb1-ad78-585a3525d9dc"
      },
      "execution_count": null,
      "outputs": [
        {
          "output_type": "stream",
          "name": "stdout",
          "text": [
            "sum= 150\n"
          ]
        }
      ]
    },
    {
      "cell_type": "markdown",
      "source": [
        "2.a.Answer"
      ],
      "metadata": {
        "id": "FPlwhVLEkCRi"
      }
    },
    {
      "cell_type": "code",
      "source": [
        "str=input(\"enter a string \")\n",
        "print(\"length=\" ,len(str))\n"
      ],
      "metadata": {
        "colab": {
          "base_uri": "https://localhost:8080/"
        },
        "id": "nf9lkNFGjtuV",
        "outputId": "c5b4eeb3-f422-4b29-f441-0d8284275098"
      },
      "execution_count": null,
      "outputs": [
        {
          "output_type": "stream",
          "name": "stdout",
          "text": [
            "enter a string python is a high level programming language\n",
            "length= 43\n"
          ]
        }
      ]
    },
    {
      "cell_type": "markdown",
      "source": [
        "2.b.answer"
      ],
      "metadata": {
        "id": "JDbhbVgykAl0"
      }
    },
    {
      "cell_type": "code",
      "source": [
        "print(\"first half of string=\",str[0:23])"
      ],
      "metadata": {
        "colab": {
          "base_uri": "https://localhost:8080/"
        },
        "id": "nAb-bmIDk_Oe",
        "outputId": "5497b68c-aad6-4718-f284-32b8de34301f"
      },
      "execution_count": null,
      "outputs": [
        {
          "output_type": "stream",
          "name": "stdout",
          "text": [
            "first half of string= python is a high level \n"
          ]
        }
      ]
    },
    {
      "cell_type": "markdown",
      "source": [
        "3.Answer"
      ],
      "metadata": {
        "id": "mtaxWNXWlaA6"
      }
    },
    {
      "cell_type": "code",
      "source": [
        "t=(78,45,[32],19,82,77,40,39)\n",
        "t[2][0]=100\n",
        "print(t)"
      ],
      "metadata": {
        "colab": {
          "base_uri": "https://localhost:8080/"
        },
        "id": "VwAvD0SglQe5",
        "outputId": "34b38c3f-61be-408b-a053-d96563a9a9f2"
      },
      "execution_count": null,
      "outputs": [
        {
          "output_type": "stream",
          "name": "stdout",
          "text": [
            "(78, 45, [100], 19, 82, 77, 40, 39)\n"
          ]
        }
      ]
    },
    {
      "cell_type": "markdown",
      "source": [
        "4.a.Answer"
      ],
      "metadata": {
        "id": "TEhLHs9imsA2"
      }
    },
    {
      "cell_type": "code",
      "source": [
        "ListA=[19,32,10,55,31,32,94,29,10,65,77,40,40]\n",
        "ListA.remove(32)\n",
        "print(\"list is=\",ListA)"
      ],
      "metadata": {
        "colab": {
          "base_uri": "https://localhost:8080/"
        },
        "id": "Fb0yDbysl_Do",
        "outputId": "a21eb3da-31bc-4bf9-97bd-9e5247963b4d"
      },
      "execution_count": null,
      "outputs": [
        {
          "output_type": "stream",
          "name": "stdout",
          "text": [
            "list is= [19, 10, 55, 31, 32, 94, 29, 10, 65, 77, 40, 40]\n"
          ]
        }
      ]
    },
    {
      "cell_type": "code",
      "source": [
        "ListA"
      ],
      "metadata": {
        "colab": {
          "base_uri": "https://localhost:8080/"
        },
        "id": "xLCw67XpPCZd",
        "outputId": "6c200848-dac4-4158-a2d5-3affc89d0e98"
      },
      "execution_count": null,
      "outputs": [
        {
          "output_type": "execute_result",
          "data": {
            "text/plain": [
              "[19, 10, 55, 31, 32, 94, 29, 10, 65, 77, 40, 40]"
            ]
          },
          "metadata": {},
          "execution_count": 36
        }
      ]
    },
    {
      "cell_type": "markdown",
      "source": [
        "4.b.Answer"
      ],
      "metadata": {
        "id": "RJJdJ2vLmoZM"
      }
    },
    {
      "cell_type": "markdown",
      "source": [],
      "metadata": {
        "id": "jUAsr3a3PABH"
      }
    },
    {
      "cell_type": "code",
      "source": [
        "\n",
        "ListA.pop()\n",
        "\n"
      ],
      "metadata": {
        "id": "DWndQFsQn7Dd",
        "colab": {
          "base_uri": "https://localhost:8080/"
        },
        "outputId": "92a00c22-abc4-4391-8c17-1fcc89f0fdaa"
      },
      "execution_count": null,
      "outputs": [
        {
          "output_type": "execute_result",
          "data": {
            "text/plain": [
              "40"
            ]
          },
          "metadata": {},
          "execution_count": 37
        }
      ]
    },
    {
      "cell_type": "code",
      "source": [
        "ListA.pop()"
      ],
      "metadata": {
        "colab": {
          "base_uri": "https://localhost:8080/"
        },
        "id": "lzKvBbriJhKJ",
        "outputId": "5a6f5b01-e06a-4257-a44b-bf1dcf26dc6f"
      },
      "execution_count": null,
      "outputs": [
        {
          "output_type": "execute_result",
          "data": {
            "text/plain": [
              "40"
            ]
          },
          "metadata": {},
          "execution_count": 38
        }
      ]
    },
    {
      "cell_type": "code",
      "source": [
        "ListA"
      ],
      "metadata": {
        "colab": {
          "base_uri": "https://localhost:8080/"
        },
        "id": "RH37wqx1Jpta",
        "outputId": "5ef89377-dfa0-4ceb-c9dd-cc6e6a01a5cd"
      },
      "execution_count": null,
      "outputs": [
        {
          "output_type": "execute_result",
          "data": {
            "text/plain": [
              "[19, 10, 55, 31, 32, 94, 29, 10, 65, 77]"
            ]
          },
          "metadata": {},
          "execution_count": 39
        }
      ]
    },
    {
      "cell_type": "markdown",
      "source": [
        "4.c.Answer"
      ],
      "metadata": {
        "id": "ct0FVP3jn4Ut"
      }
    },
    {
      "cell_type": "code",
      "source": [
        "\n",
        "ListA.pop(5)\n"
      ],
      "metadata": {
        "id": "AGfqIbbvoMuP",
        "colab": {
          "base_uri": "https://localhost:8080/"
        },
        "outputId": "ef79f8ea-adbc-4713-82d5-2bf386be6907"
      },
      "execution_count": null,
      "outputs": [
        {
          "output_type": "execute_result",
          "data": {
            "text/plain": [
              "94"
            ]
          },
          "metadata": {},
          "execution_count": 40
        }
      ]
    },
    {
      "cell_type": "code",
      "source": [
        "ListA"
      ],
      "metadata": {
        "colab": {
          "base_uri": "https://localhost:8080/"
        },
        "id": "SgZb9OiNIegC",
        "outputId": "8a70c0c1-3d0e-4869-d40b-16415c905922"
      },
      "execution_count": null,
      "outputs": [
        {
          "output_type": "execute_result",
          "data": {
            "text/plain": [
              "[19, 10, 55, 31, 32, 29, 10, 65, 77]"
            ]
          },
          "metadata": {},
          "execution_count": 41
        }
      ]
    },
    {
      "cell_type": "markdown",
      "source": [
        "4.d.Answer"
      ],
      "metadata": {
        "id": "6_X20mnioLSs"
      }
    },
    {
      "cell_type": "code",
      "source": [
        "\n",
        "ListA.insert(9,300)\n",
        "ListA"
      ],
      "metadata": {
        "id": "aPCd4YY4od5q",
        "colab": {
          "base_uri": "https://localhost:8080/"
        },
        "outputId": "334e62b8-8027-42a9-b7f2-e15e0970f3ab"
      },
      "execution_count": null,
      "outputs": [
        {
          "output_type": "execute_result",
          "data": {
            "text/plain": [
              "[19, 10, 55, 31, 32, 29, 10, 65, 77, 300]"
            ]
          },
          "metadata": {},
          "execution_count": 42
        }
      ]
    },
    {
      "cell_type": "markdown",
      "source": [
        "4.e.Answer"
      ],
      "metadata": {
        "id": "MaZXqdbamkM4"
      }
    },
    {
      "cell_type": "code",
      "source": [
        "ListA.insert(2,200)\n",
        "ListA"
      ],
      "metadata": {
        "id": "NIRnJWYboag1",
        "colab": {
          "base_uri": "https://localhost:8080/"
        },
        "outputId": "1c095d61-edaa-4c53-bccb-d1dcfdd567e3"
      },
      "execution_count": null,
      "outputs": [
        {
          "output_type": "execute_result",
          "data": {
            "text/plain": [
              "[19, 10, 200, 55, 31, 32, 29, 10, 65, 77, 300]"
            ]
          },
          "metadata": {},
          "execution_count": 43
        }
      ]
    },
    {
      "cell_type": "markdown",
      "source": [
        "4.f.Answer"
      ],
      "metadata": {
        "id": "MN_7R956ooK-"
      }
    },
    {
      "cell_type": "code",
      "source": [
        "ListA"
      ],
      "metadata": {
        "id": "SJzFik5moznG",
        "colab": {
          "base_uri": "https://localhost:8080/"
        },
        "outputId": "6f40c993-6c72-41f0-c04b-e2519c5b4d61"
      },
      "execution_count": null,
      "outputs": [
        {
          "output_type": "execute_result",
          "data": {
            "text/plain": [
              "[19, 10, 200, 55, 31, 32, 29, 10, 65, 77, 300]"
            ]
          },
          "metadata": {},
          "execution_count": 44
        }
      ]
    },
    {
      "cell_type": "code",
      "source": [
        "len(ListA)"
      ],
      "metadata": {
        "colab": {
          "base_uri": "https://localhost:8080/"
        },
        "id": "SbjkHx9WLr0v",
        "outputId": "4f316ec1-28b6-4253-86a0-d10de8b1cad4"
      },
      "execution_count": null,
      "outputs": [
        {
          "output_type": "execute_result",
          "data": {
            "text/plain": [
              "11"
            ]
          },
          "metadata": {},
          "execution_count": 45
        }
      ]
    },
    {
      "cell_type": "code",
      "source": [
        "print(max(ListA))"
      ],
      "metadata": {
        "colab": {
          "base_uri": "https://localhost:8080/"
        },
        "id": "01vKllMyL2hz",
        "outputId": "8e915ca0-53e1-430e-92c7-dd2f362a093d"
      },
      "execution_count": null,
      "outputs": [
        {
          "output_type": "stream",
          "name": "stdout",
          "text": [
            "300\n"
          ]
        }
      ]
    },
    {
      "cell_type": "code",
      "source": [
        "print(sum(ListA))"
      ],
      "metadata": {
        "colab": {
          "base_uri": "https://localhost:8080/"
        },
        "id": "PipVdpg4MOZG",
        "outputId": "0280240e-98c2-4694-c614-dd71e8de61cc"
      },
      "execution_count": null,
      "outputs": [
        {
          "output_type": "stream",
          "name": "stdout",
          "text": [
            "828\n"
          ]
        }
      ]
    },
    {
      "cell_type": "markdown",
      "source": [
        "5.a.Answer"
      ],
      "metadata": {
        "id": "UGI9FewRo1W8"
      }
    },
    {
      "cell_type": "code",
      "source": [
        "str=\"The day has been long\"\n",
        "str1=str.replace(str[4],\"\")\n",
        "print(str1)"
      ],
      "metadata": {
        "id": "dY85V6fkpWeU",
        "colab": {
          "base_uri": "https://localhost:8080/"
        },
        "outputId": "eaeea823-7098-4cee-bbe5-dbabc1d76ac7"
      },
      "execution_count": null,
      "outputs": [
        {
          "output_type": "stream",
          "name": "stdout",
          "text": [
            "The ay has been long\n"
          ]
        }
      ]
    },
    {
      "cell_type": "code",
      "source": [
        "str1"
      ],
      "metadata": {
        "colab": {
          "base_uri": "https://localhost:8080/",
          "height": 35
        },
        "id": "CXpA2EkVXp-k",
        "outputId": "2da73d8c-aa5e-4565-e833-48e19c23bd5c"
      },
      "execution_count": null,
      "outputs": [
        {
          "output_type": "execute_result",
          "data": {
            "text/plain": [
              "'The ay has been long'"
            ],
            "application/vnd.google.colaboratory.intrinsic+json": {
              "type": "string"
            }
          },
          "metadata": {},
          "execution_count": 62
        }
      ]
    },
    {
      "cell_type": "markdown",
      "source": [
        "5.b.Answer"
      ],
      "metadata": {
        "id": "zAH3XYxRo5Ec"
      }
    },
    {
      "cell_type": "code",
      "source": [
        "\n",
        "print((str1+\"\\t\")*4)\n",
        "\n"
      ],
      "metadata": {
        "colab": {
          "base_uri": "https://localhost:8080/"
        },
        "id": "jke7LhmtpiXs",
        "outputId": "3fc26812-ef6c-4760-d078-430605f1c66b"
      },
      "execution_count": null,
      "outputs": [
        {
          "output_type": "stream",
          "name": "stdout",
          "text": [
            "The ay has been long\tThe ay has been long\tThe ay has been long\tThe ay has been long\t\n"
          ]
        }
      ]
    },
    {
      "cell_type": "code",
      "source": [
        "\n"
      ],
      "metadata": {
        "id": "pS5qNZLXhZMo"
      },
      "execution_count": null,
      "outputs": []
    },
    {
      "cell_type": "markdown",
      "source": [
        "5.c.Answer"
      ],
      "metadata": {
        "id": "TWB-QXmhri6W"
      }
    },
    {
      "cell_type": "code",
      "source": [
        "print((str1+\"\\n\")*3)"
      ],
      "metadata": {
        "id": "mYz5hCSwqJT1",
        "colab": {
          "base_uri": "https://localhost:8080/"
        },
        "outputId": "f67013d9-f4a2-4ece-bebf-f391545a3f17"
      },
      "execution_count": null,
      "outputs": [
        {
          "output_type": "stream",
          "name": "stdout",
          "text": [
            "The ay has been long\n",
            "The ay has been long\n",
            "The ay has been long\n",
            "\n"
          ]
        }
      ]
    },
    {
      "cell_type": "markdown",
      "source": [
        "5.d.Answer"
      ],
      "metadata": {
        "id": "gxrfI7DzsBqT"
      }
    },
    {
      "cell_type": "code",
      "source": [
        "str1\n",
        "\n"
      ],
      "metadata": {
        "id": "dMnFuIkXrx3x",
        "colab": {
          "base_uri": "https://localhost:8080/",
          "height": 35
        },
        "outputId": "36bcc7b9-55c0-4d68-c479-ba3d48c362cb"
      },
      "execution_count": null,
      "outputs": [
        {
          "output_type": "execute_result",
          "data": {
            "text/plain": [
              "'The ay has been long'"
            ],
            "application/vnd.google.colaboratory.intrinsic+json": {
              "type": "string"
            }
          },
          "metadata": {},
          "execution_count": 17
        }
      ]
    },
    {
      "cell_type": "code",
      "source": [
        "str2=str1.replace(str1[7:],\"A\",)\n",
        "str2"
      ],
      "metadata": {
        "id": "OwrylVj0oP42",
        "colab": {
          "base_uri": "https://localhost:8080/",
          "height": 35
        },
        "outputId": "c83bf1d2-aef0-4253-b117-7195ff8f0a07"
      },
      "execution_count": null,
      "outputs": [
        {
          "output_type": "execute_result",
          "data": {
            "text/plain": [
              "'The ay A'"
            ],
            "application/vnd.google.colaboratory.intrinsic+json": {
              "type": "string"
            }
          },
          "metadata": {},
          "execution_count": 43
        }
      ]
    },
    {
      "cell_type": "markdown",
      "source": [
        "5.e.Answer"
      ],
      "metadata": {
        "id": "MNgE-qVgsI-4"
      }
    },
    {
      "cell_type": "code",
      "source": [
        "print(str2[4:15])"
      ],
      "metadata": {
        "id": "HttKBzIYsn02",
        "colab": {
          "base_uri": "https://localhost:8080/"
        },
        "outputId": "1065a652-ea46-44dd-b0a5-7417f85b4b00"
      },
      "execution_count": null,
      "outputs": [
        {
          "output_type": "stream",
          "name": "stdout",
          "text": [
            "ay A\n"
          ]
        }
      ]
    },
    {
      "cell_type": "markdown",
      "source": [
        "5.f.Answer"
      ],
      "metadata": {
        "id": "rbBVIE_VRhsZ"
      }
    },
    {
      "cell_type": "code",
      "source": [
        "print(len(str2))"
      ],
      "metadata": {
        "id": "sZsAex02Rnah",
        "colab": {
          "base_uri": "https://localhost:8080/"
        },
        "outputId": "1ad55a16-8b87-4c24-cdf9-0a864defe6e7"
      },
      "execution_count": null,
      "outputs": [
        {
          "output_type": "stream",
          "name": "stdout",
          "text": [
            "8\n"
          ]
        }
      ]
    }
  ]
}